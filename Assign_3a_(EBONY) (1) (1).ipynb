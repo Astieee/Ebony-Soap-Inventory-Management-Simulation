{
  "nbformat": 4,
  "nbformat_minor": 0,
  "metadata": {
    "colab": {
      "provenance": []
    },
    "kernelspec": {
      "name": "python3",
      "display_name": "Python 3"
    },
    "language_info": {
      "name": "python"
    }
  },
  "cells": [
    {
      "cell_type": "code",
      "source": [
        "from google.colab import drive\n",
        "drive.mount(\"/content/drive\")"
      ],
      "metadata": {
        "colab": {
          "base_uri": "https://localhost:8080/"
        },
        "id": "UXiE80B3S_Px",
        "outputId": "fc5276b7-79bb-4f14-9438-1be8f0472609"
      },
      "execution_count": null,
      "outputs": [
        {
          "output_type": "stream",
          "name": "stdout",
          "text": [
            "Mounted at /content/drive\n"
          ]
        }
      ]
    },
    {
      "cell_type": "code",
      "source": [
        "import sys\n",
        "sys.path.insert(0, \"/content/drive/MyDrive/645\")"
      ],
      "metadata": {
        "id": "tkQXr0IhS_L2"
      },
      "execution_count": null,
      "outputs": []
    },
    {
      "cell_type": "code",
      "source": [
        "from brooks import *"
      ],
      "metadata": {
        "id": "ZS_80iHfTCNx"
      },
      "execution_count": null,
      "outputs": []
    },
    {
      "cell_type": "code",
      "source": [
        "import numpy as np\n",
        "import pandas as pd\n",
        "import seaborn as sns"
      ],
      "metadata": {
        "id": "FXxmkkKoQeBi"
      },
      "execution_count": null,
      "outputs": []
    },
    {
      "cell_type": "code",
      "source": [
        "demand_data = pd.read_excel(\"/content/drive/MyDrive/645/Datasets/ebony_demand.xlsx\",sheet_name=0)"
      ],
      "metadata": {
        "id": "K2_j8nj6nleE"
      },
      "execution_count": null,
      "outputs": []
    },
    {
      "cell_type": "code",
      "source": [
        "import matplotlib.pyplot as plt\n",
        "\n",
        "my_plot = sns.histplot(demand_data)\n",
        "plt.savefig(\"/content/drive/MyDrive/645/demand_hist.png\")\n",
        "sns.histplot(demand_data)"
      ],
      "metadata": {
        "colab": {
          "base_uri": "https://localhost:8080/",
          "height": 448
        },
        "id": "QGGQCHDunhho",
        "outputId": "f08e1c8f-c707-414e-aa12-5ba853398e49"
      },
      "execution_count": null,
      "outputs": [
        {
          "output_type": "execute_result",
          "data": {
            "text/plain": [
              "<Axes: ylabel='Count'>"
            ]
          },
          "metadata": {},
          "execution_count": 9
        },
        {
          "output_type": "display_data",
          "data": {
            "text/plain": [
              "<Figure size 640x480 with 1 Axes>"
            ],
            "image/png": "[encoded data removed]"
          },
          "metadata": {}
        }
      ]
    },
    {
      "cell_type": "code",
      "source": [
        "(demand_mean, demand_sd) = test_distribution(demand_data, distribution = \"normal\")"
      ],
      "metadata": {
        "colab": {
          "base_uri": "https://localhost:8080/"
        },
        "id": "mlg8ufuDoDel",
        "outputId": "31330165-24d5-4c4c-9639-798fcde32273"
      },
      "execution_count": null,
      "outputs": [
        {
          "output_type": "stream",
          "name": "stdout",
          "text": [
            "For a normal distribution, the mean estimate is 118.932692 and the standard deviation estimate is 14.229077.\n",
            "The test statistic for a normal distribution is 10.877057 and the p-value is 0.144072.\n"
          ]
        }
      ]
    },
    {
      "cell_type": "code",
      "source": [
        "def ebony_simulation_choice(U, num_replications=1000, seed=12345):\n",
        "    rg = np.random.default_rng(seed)\n",
        "    L = 30  # Given in the problem\n",
        "    holding_cost_per_unit = 30  # $30 per unit per week\n",
        "    change_cost = 3000  # $3000 for changing the production level\n",
        "\n",
        "    # List to store total cost for each replication\n",
        "    total_costs = []\n",
        "\n",
        "    for _ in range(num_replications):\n",
        "        inventory = 60  # Initial inventory\n",
        "        prev_production = 120  # Last week's production\n",
        "        total_cost = 0  # Initialize total cost\n",
        "\n",
        "        # Simulating for 52 weeks\n",
        "        for _ in range(52):\n",
        "            # Sample week demand using normal distribution\n",
        "            week_demand = rg.normal(demand_mean, demand_sd)\n",
        "\n",
        "            # Determine production based on the policy and inventory\n",
        "            if inventory < L:\n",
        "                production = 130\n",
        "            elif inventory > U:\n",
        "                production = 110\n",
        "            else:\n",
        "                production = prev_production  # Continue with previous week's production\n",
        "\n",
        "            # Update inventory and costs\n",
        "            inventory += production - week_demand\n",
        "            holding_cost = max(inventory, 0) * holding_cost_per_unit\n",
        "            change_cost_this_week = change_cost if production != prev_production else 0\n",
        "            total_cost += holding_cost + change_cost_this_week\n",
        "\n",
        "            # Update previous production for next week\n",
        "            prev_production = production\n",
        "\n",
        "        total_costs.append(total_cost)\n",
        "\n",
        "    # Calculate expected cost and 95% credible interval\n",
        "    expected_cost = np.mean(total_costs)\n",
        "    lower_bound = np.percentile(total_costs, 2.5)\n",
        "    upper_bound = np.percentile(total_costs, 97.5)\n",
        "\n",
        "    return expected_cost, (lower_bound, upper_bound)\n",
        "\n",
        "# Define U_values\n",
        "U_values_choice = list(range(30, 90, 10))\n",
        "\n",
        "# Simulate for each value of U using the choice approach\n",
        "results_choice = {}\n",
        "for U in U_values_choice:\n",
        "    results_choice[U] = ebony_simulation_choice(U)\n",
        "\n",
        "results_choice"
      ],
      "metadata": {
        "colab": {
          "base_uri": "https://localhost:8080/"
        },
        "id": "cjfPTxVlnPCB",
        "outputId": "b565cdd7-e901-4cf3-d85e-d3e5410210ba"
      },
      "execution_count": null,
      "outputs": [
        {
          "output_type": "execute_result",
          "data": {
            "text/plain": [
              "{30: (116217.1093086814, (89309.1614717206, 140426.01295807003)),\n",
              " 40: (108378.00304587063, (84817.83299921195, 128346.93837944875)),\n",
              " 50: (105074.62423578741, (84488.6852807992, 124024.71689475047)),\n",
              " 60: (104901.87484277353, (84903.79190025361, 124045.6505833797)),\n",
              " 70: (107023.36174041303, (87468.57061537696, 126544.90405325247)),\n",
              " 80: (110779.73641322547, (88377.36746314683, 132362.83001095464))}"
            ]
          },
          "metadata": {},
          "execution_count": 11
        }
      ]
    }
  ]
}